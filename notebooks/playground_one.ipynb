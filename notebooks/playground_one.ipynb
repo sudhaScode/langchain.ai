{
 "cells": [
  {
   "cell_type": "code",
   "execution_count": 2,
   "metadata": {},
   "outputs": [],
   "source": [
    "from dotenv import load_dotenv\n",
    "import os"
   ]
  },
  {
   "cell_type": "code",
   "execution_count": 3,
   "metadata": {},
   "outputs": [
    {
     "data": {
      "text/plain": [
       "True"
      ]
     },
     "execution_count": 3,
     "metadata": {},
     "output_type": "execute_result"
    }
   ],
   "source": [
    "# load environment\n",
    "load_dotenv()"
   ]
  },
  {
   "cell_type": "markdown",
   "metadata": {},
   "source": [
    "# Setup Chat Model"
   ]
  },
  {
   "cell_type": "code",
   "execution_count": 6,
   "metadata": {},
   "outputs": [],
   "source": [
    "import google.generativeai as genai\n",
    "import pathlib\n",
    "import textwrap\n",
    "from IPython.display import  Markdown\n",
    "from IPython.display import  display"
   ]
  },
  {
   "cell_type": "code",
   "execution_count": 7,
   "metadata": {},
   "outputs": [],
   "source": [
    "model = genai.GenerativeModel('gemini-pro')"
   ]
  },
  {
   "cell_type": "code",
   "execution_count": 8,
   "metadata": {},
   "outputs": [],
   "source": [
    "response = model.generate_content(\"isights on langchian features\")"
   ]
  },
  {
   "cell_type": "code",
   "execution_count": 10,
   "metadata": {},
   "outputs": [
    {
     "data": {
      "text/markdown": [
       "**Langchian Features**\n",
       "\n",
       "The Langchian stage is the fifth and final stage of the Middle Triassic epoch. It lasted from approximately 237 to 235 million years ago. The Langchian stage is characterized by a number of unique features, including:\n",
       "\n",
       "* **The proliferation of dinosaurs:** The Langchian stage saw the first appearance of several major groups of dinosaurs, including the sauropodomorphs, theropods, and ornithischia. These groups would go on to become the dominant land animals for the next 150 million years.\n",
       "* **The rise of the cynodonts:** The cynodonts were a group of mammalian relatives that lived during the Triassic period. During the Langchian stage, the cynodonts diversified into a wide range of forms, including some that resembled modern mammals.\n",
       "* **The development of new plant communities:** The Langchian stage also saw the development of new plant communities, including the first forests. These forests were dominated by conifers, but also included a variety of ferns and other plants.\n",
       "* **The changing climate:** The climate during the Langchian stage was warm and humid, but it began to cool towards the end of the stage. This cooling trend would continue into the Late Triassic epoch.\n",
       "\n",
       "The Langchian stage was a time of great change and diversification in the Earth's biosphere. The proliferation of dinosaurs, the rise of the cynodonts, and the development of new plant communities all contributed to the shaping of the modern world.\n",
       "\n",
       "**Additional Insights**\n",
       "\n",
       "* The Langchian stage is named after the Langchai Formation in China, where some of the first fossils from this stage were found.\n",
       "* The Langchian stage is sometimes referred to as the \"dawn of the dinosaurs.\"\n",
       "* The cynodonts that lived during the Langchian stage are thought to be the ancestors of all mammals.\n",
       "* The climate change that occurred during the Langchian stage is thought to have been caused by a combination of factors, including increased volcanic activity and changes in the Earth's orbit."
      ],
      "text/plain": [
       "<IPython.core.display.Markdown object>"
      ]
     },
     "metadata": {},
     "output_type": "display_data"
    }
   ],
   "source": [
    "display(Markdown(response.text))"
   ]
  },
  {
   "cell_type": "code",
   "execution_count": 11,
   "metadata": {},
   "outputs": [],
   "source": [
    "from langchain.chains import LLMChain"
   ]
  },
  {
   "cell_type": "code",
   "execution_count": 14,
   "metadata": {},
   "outputs": [],
   "source": [
    "api_key = os.getenv(\"GOOGLE_API_KEY\")"
   ]
  },
  {
   "cell_type": "code",
   "execution_count": 13,
   "metadata": {},
   "outputs": [],
   "source": [
    "from langchain_google_genai import GoogleGenerativeAI\n",
    "llm= GoogleGenerativeAI(model='models/text-bison-001', google_api_key=api_key)"
   ]
  },
  {
   "cell_type": "code",
   "execution_count": 16,
   "metadata": {},
   "outputs": [],
   "source": [
    "from langchain.prompts.prompt import PromptTemplate\n",
    "prompt = \"what best name for the company which is provides IT services like {services}\"\n",
    "template = PromptTemplate(\n",
    "    input_variables=['services'],\n",
    "    template=prompt\n",
    ")"
   ]
  },
  {
   "cell_type": "code",
   "execution_count": 23,
   "metadata": {},
   "outputs": [
    {
     "ename": "ValueError",
     "evalue": "Missing some input keys: {''}",
     "output_type": "error",
     "traceback": [
      "\u001b[1;31m---------------------------------------------------------------------------\u001b[0m",
      "\u001b[1;31mValueError\u001b[0m                                Traceback (most recent call last)",
      "Cell \u001b[1;32mIn[23], line 5\u001b[0m\n\u001b[0;32m      3\u001b[0m service \u001b[39m=\u001b[39m  \u001b[39m\"\"\"\u001b[39m\u001b[39mweb development\u001b[39m\u001b[39m\"\"\"\u001b[39m\n\u001b[0;32m      4\u001b[0m input_data \u001b[39m=\u001b[39m {\u001b[39m\"\u001b[39m\u001b[39mservices\u001b[39m\u001b[39m\"\u001b[39m: service}\n\u001b[1;32m----> 5\u001b[0m response \u001b[39m=\u001b[39m chain\u001b[39m.\u001b[39;49minvoke(\u001b[39minput\u001b[39;49m\u001b[39m=\u001b[39;49m {\u001b[39m\"\u001b[39;49m\u001b[39mservices\u001b[39;49m\u001b[39m\"\u001b[39;49m:\u001b[39m\"\u001b[39;49m\u001b[39mweb devlopment\u001b[39;49m\u001b[39m\"\u001b[39;49m})\n",
      "File \u001b[1;32mc:\\Users\\SUBOMMAS\\langchain.ai\\venv\\Lib\\site-packages\\langchain\\chains\\base.py:163\u001b[0m, in \u001b[0;36mChain.invoke\u001b[1;34m(self, input, config, **kwargs)\u001b[0m\n\u001b[0;32m    161\u001b[0m \u001b[39mexcept\u001b[39;00m \u001b[39mBaseException\u001b[39;00m \u001b[39mas\u001b[39;00m e:\n\u001b[0;32m    162\u001b[0m     run_manager\u001b[39m.\u001b[39mon_chain_error(e)\n\u001b[1;32m--> 163\u001b[0m     \u001b[39mraise\u001b[39;00m e\n\u001b[0;32m    164\u001b[0m run_manager\u001b[39m.\u001b[39mon_chain_end(outputs)\n\u001b[0;32m    166\u001b[0m \u001b[39mif\u001b[39;00m include_run_info:\n",
      "File \u001b[1;32mc:\\Users\\SUBOMMAS\\langchain.ai\\venv\\Lib\\site-packages\\langchain\\chains\\base.py:151\u001b[0m, in \u001b[0;36mChain.invoke\u001b[1;34m(self, input, config, **kwargs)\u001b[0m\n\u001b[0;32m    145\u001b[0m run_manager \u001b[39m=\u001b[39m callback_manager\u001b[39m.\u001b[39mon_chain_start(\n\u001b[0;32m    146\u001b[0m     dumpd(\u001b[39mself\u001b[39m),\n\u001b[0;32m    147\u001b[0m     inputs,\n\u001b[0;32m    148\u001b[0m     name\u001b[39m=\u001b[39mrun_name,\n\u001b[0;32m    149\u001b[0m )\n\u001b[0;32m    150\u001b[0m \u001b[39mtry\u001b[39;00m:\n\u001b[1;32m--> 151\u001b[0m     \u001b[39mself\u001b[39;49m\u001b[39m.\u001b[39;49m_validate_inputs(inputs)\n\u001b[0;32m    152\u001b[0m     outputs \u001b[39m=\u001b[39m (\n\u001b[0;32m    153\u001b[0m         \u001b[39mself\u001b[39m\u001b[39m.\u001b[39m_call(inputs, run_manager\u001b[39m=\u001b[39mrun_manager)\n\u001b[0;32m    154\u001b[0m         \u001b[39mif\u001b[39;00m new_arg_supported\n\u001b[0;32m    155\u001b[0m         \u001b[39melse\u001b[39;00m \u001b[39mself\u001b[39m\u001b[39m.\u001b[39m_call(inputs)\n\u001b[0;32m    156\u001b[0m     )\n\u001b[0;32m    158\u001b[0m     final_outputs: Dict[\u001b[39mstr\u001b[39m, Any] \u001b[39m=\u001b[39m \u001b[39mself\u001b[39m\u001b[39m.\u001b[39mprep_outputs(\n\u001b[0;32m    159\u001b[0m         inputs, outputs, return_only_outputs\n\u001b[0;32m    160\u001b[0m     )\n",
      "File \u001b[1;32mc:\\Users\\SUBOMMAS\\langchain.ai\\venv\\Lib\\site-packages\\langchain\\chains\\base.py:279\u001b[0m, in \u001b[0;36mChain._validate_inputs\u001b[1;34m(self, inputs)\u001b[0m\n\u001b[0;32m    277\u001b[0m missing_keys \u001b[39m=\u001b[39m \u001b[39mset\u001b[39m(\u001b[39mself\u001b[39m\u001b[39m.\u001b[39minput_keys)\u001b[39m.\u001b[39mdifference(inputs)\n\u001b[0;32m    278\u001b[0m \u001b[39mif\u001b[39;00m missing_keys:\n\u001b[1;32m--> 279\u001b[0m     \u001b[39mraise\u001b[39;00m \u001b[39mValueError\u001b[39;00m(\u001b[39mf\u001b[39m\u001b[39m\"\u001b[39m\u001b[39mMissing some input keys: \u001b[39m\u001b[39m{\u001b[39;00mmissing_keys\u001b[39m}\u001b[39;00m\u001b[39m\"\u001b[39m)\n",
      "\u001b[1;31mValueError\u001b[0m: Missing some input keys: {''}"
     ]
    }
   ],
   "source": [
    "from langchain.chains import LLMChain\n",
    "chain= LLMChain(llm = llm, prompt=template )\n",
    "service =  \"\"\"web development\"\"\"\n",
    "input_data = {\"services\": service}\n",
    "response = chain.invoke(input= {\"services\":\"web devlopment\"})"
   ]
  }
 ],
 "metadata": {
  "kernelspec": {
   "display_name": "Python 3.11.0 (conda)",
   "language": "python",
   "name": "python3"
  },
  "language_info": {
   "codemirror_mode": {
    "name": "ipython",
    "version": 3
   },
   "file_extension": ".py",
   "mimetype": "text/x-python",
   "name": "python",
   "nbconvert_exporter": "python",
   "pygments_lexer": "ipython3",
   "version": "3.11.0"
  },
  "orig_nbformat": 4,
  "vscode": {
   "interpreter": {
    "hash": "c29fce9cb6acd218f647a0bc89f75a24dc6d93e0691e5b9505d49a5504b06a8b"
   }
  }
 },
 "nbformat": 4,
 "nbformat_minor": 2
}
